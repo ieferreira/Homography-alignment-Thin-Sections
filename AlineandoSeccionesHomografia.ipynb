{
 "cells": [
  {
   "cell_type": "markdown",
   "metadata": {},
   "source": [
    "# Homografía y videos de secciones delgadas"
   ]
  },
  {
   "cell_type": "code",
   "execution_count": null,
   "metadata": {
    "ExecuteTime": {
     "end_time": "2020-10-10T20:24:24.884509Z",
     "start_time": "2020-10-10T20:24:24.869506Z"
    }
   },
   "outputs": [],
   "source": [
    "\n",
    "import cv2 # open-cv versión en python de libreria de visión artificial de c++\n",
    "import numpy as np # libreria para tratamiento de matrices (en este caso imagenes)\n",
    "import os # libreria para manejo y creacion de archivos del sistema operativo\n",
    "import imageio, imutils # tratamiento de imagenes, para hacer los gifs \n",
    "\n",
    "# NOMBRE DEL VIDEO (sin extensión) EN ESTE CASO: flogopita \n",
    "name = \"flogopita\" # creará un directorio llamado de esta forma para guardar fotogramas y resultados de la homografía"
   ]
  },
  {
   "cell_type": "markdown",
   "metadata": {},
   "source": [
    "El proceso de Homografía toma dos imagenes y genera puntos de relación entre ellas, luego las alinea haciendo que estos cuadren, para tener dos imagenes alineadas de un mismo objeto \n",
    "\n",
    "![alt text](https://i.stack.imgur.com/TPg4I.png \"Ejemplo de que es el proceso de Homografía, tomado de DeTone, 2016\")\n",
    "\n",
    "Las lineas conectan los puntos en común entre las dos imagenes"
   ]
  },
  {
   "cell_type": "code",
   "execution_count": null,
   "metadata": {
    "ExecuteTime": {
     "end_time": "2020-10-10T20:24:24.915505Z",
     "start_time": "2020-10-10T20:24:24.886508Z"
    }
   },
   "outputs": [],
   "source": [
    "from IPython.display import Video\n",
    "\n",
    "Video(name+\".mp4\",width=600, height=400,html_attributes = \"controls muted\")"
   ]
  },
  {
   "cell_type": "markdown",
   "metadata": {},
   "source": [
    "## Definición de funciones"
   ]
  },
  {
   "cell_type": "markdown",
   "metadata": {},
   "source": [
    "### Desglosar en Fotogramas\n"
   ]
  },
  {
   "cell_type": "code",
   "execution_count": null,
   "metadata": {
    "ExecuteTime": {
     "end_time": "2020-10-10T20:24:29.209517Z",
     "start_time": "2020-10-10T20:24:24.917505Z"
    }
   },
   "outputs": [],
   "source": [
    "\n",
    "\n",
    "def getFrame(sec):\n",
    "    vidcap.set(cv2.CAP_PROP_POS_MSEC,sec*1000)\n",
    "    hasFrames,image = vidcap.read()\n",
    "    \n",
    "    if hasFrames:\n",
    "\n",
    "        cv2.imwrite(name+\"/image\"+str(count)+\".jpg\", image)     # guadar fotogramas como jpg\n",
    "    return hasFrames\n",
    "\n",
    "vidcap = cv2.VideoCapture(name+'.mp4')\n",
    "\n",
    "try:\n",
    "    os.mkdir(name)\n",
    "except OSError:\n",
    "    print (\"Fallo creacion de directorio: %s --- ¿ya existe?\" % name)\n",
    "else:\n",
    "    print (\"Se creo directorio:  %s \" % name)\n",
    "   \n",
    "sec = 0\n",
    "frameRate = 0.2 # AQUI se modifica la tasa  de los fotogramas, más bajo = más fotogramas\n",
    "count=1\n",
    "success = getFrame(sec)\n",
    "while success: # para de extraer fotogramas cuando ya no hay video\n",
    "    count = count + 1\n",
    "    sec = sec + frameRate\n",
    "    sec = round(sec, 2)\n",
    "    success = getFrame(sec)"
   ]
  },
  {
   "cell_type": "markdown",
   "metadata": {},
   "source": [
    "### Hacer Homografía\n",
    "\n",
    "Se define una función para simplificar la extracción de la homografía entre 2 imagenes"
   ]
  },
  {
   "cell_type": "code",
   "execution_count": null,
   "metadata": {
    "ExecuteTime": {
     "end_time": "2020-10-10T20:24:29.256510Z",
     "start_time": "2020-10-10T20:24:29.215512Z"
    }
   },
   "outputs": [],
   "source": [
    "def hacerHomografia(img2,im1,num: int,name, nOrbs=200):\n",
    "    \n",
    "    \"\"\"\n",
    "    INPUT\n",
    "    img2 -> imagen de referencia\n",
    "    im1 ->  imagen que va ser alineada\n",
    "    name ->  nombre de la carpeta donde estan los fotogramas: string\n",
    "    num -> numero en el loop, para guardar acordemente los resultados\n",
    "    orbs ->  numero de Orbs (puntos de referencia seleccionados automáticamente)\n",
    "    \n",
    "    OUTPUT\n",
    "    guarda la imagen 1 alineada respecto a objetos de la imagen 2\n",
    "    \n",
    "    \"\"\"\n",
    "\n",
    "    img1 = cv2.cvtColor(im1,cv2.COLOR_BGR2GRAY)\n",
    "    orb = cv2.ORB_create(nOrbs)\n",
    "        #  encontrar los objetos de referencia ORBS\n",
    "    kp1, des1 = orb.detectAndCompute(img1, None)\n",
    "    kp2, des2 = orb.detectAndCompute(img2, None)\n",
    "\n",
    "    # emparejar los ORBS y organizar\n",
    "    matcher = cv2.DescriptorMatcher_create(cv2.DESCRIPTOR_MATCHER_BRUTEFORCE_HAMMING)\n",
    "    matches =  matcher.match(des1, des2, None)\n",
    "    matches = sorted(matches, key = lambda x: x.distance) #Organizar los emparejamientos\n",
    "\n",
    "    # Rechazar los malos emparejamoentos RANSAC\n",
    "    matches = matcher.match(des1, des2, None)\n",
    "\n",
    "    points1 = np.zeros((len(matches),2), dtype=np.float32)\n",
    "    points2 = np.zeros((len(matches),2), dtype=np.float32)\n",
    "\n",
    "    for i, match in enumerate(matches):\n",
    "        points1[i,:] = kp1[match.queryIdx].pt\n",
    "        points2[i,:] = kp2[match.trainIdx].pt\n",
    "\n",
    "    h, mask = cv2.findHomography(points1, points2, cv2.RANSAC) # RANSAC -> Random sample consensus\n",
    "    height, width, channels = im2.shape\n",
    "\n",
    "    im1Reg = cv2.warpPerspective(im1, h, (width, height))\n",
    "    img3 = cv2.drawMatches(img1, kp1, im2, kp2, matches[:10], None, flags=4)\n",
    "    \n",
    "    # Si se quiere una imagen que muestre los emparejamientos entre imagenes descomentar abajo\n",
    "    \n",
    "    # cv2.DRAW_MATCHES_FLAGS_DRAW_RICH_KEYPOINTS\n",
    "    \n",
    "    cv2.imwrite(f\"{name}/HG{str(nOrbs)}-{str(num)}.jpg\", im1Reg)\n"
   ]
  },
  {
   "cell_type": "code",
   "execution_count": null,
   "metadata": {
    "ExecuteTime": {
     "end_time": "2020-10-10T20:24:29.318511Z",
     "start_time": "2020-10-10T20:24:29.259515Z"
    }
   },
   "outputs": [],
   "source": [
    "import glob\n",
    "NumeroImagenes = len(glob.glob1(name+\"/\",\"image*\"))\n",
    "print(tifCounter)"
   ]
  },
  {
   "cell_type": "code",
   "execution_count": null,
   "metadata": {
    "ExecuteTime": {
     "end_time": "2020-10-10T20:24:34.600802Z",
     "start_time": "2020-10-10T20:24:29.324512Z"
    }
   },
   "outputs": [],
   "source": [
    "\n",
    "\n",
    "# imagen de referencia, en este caso la primera\n",
    "im2 = cv2.imread(name+\"/image1.jpg\") # imagen de referencia\n",
    "primeraImagen = cv2.cvtColor(im2,1)\n",
    "img2 = cv2.cvtColor(im2,cv2.COLOR_BGR2GRAY)\n",
    "\n",
    "# guardar la primera imagen con la nomenclatura de las otras\n",
    "cv2.imwrite(f\"{name}/HG{str(200)}-0.jpg\", primeraImagen)\n",
    "\n",
    "for i in range(1,NumeroImagenes+1):\n",
    "    x = cv2.imread(name+\"/image\"+str(i)+\".jpg\") # imagen que se va contrastar con la de referencia\n",
    "    hacerHomografia(img2,x,i, name=name)\n",
    "\n",
    "\n"
   ]
  },
  {
   "cell_type": "markdown",
   "metadata": {},
   "source": [
    "## Hacer GIF\n",
    "### Gif sin Homografía"
   ]
  },
  {
   "cell_type": "code",
   "execution_count": null,
   "metadata": {
    "ExecuteTime": {
     "end_time": "2020-10-10T20:24:42.019138Z",
     "start_time": "2020-10-10T20:24:34.601795Z"
    }
   },
   "outputs": [],
   "source": [
    "# ALINEAR LOS FOTOGRAMAS SIN HOMOGRAFIA\n",
    "\n",
    "images = []\n",
    "for i in range(1,NumeroImagenes+1):\n",
    "    num = int(str(i))\n",
    "    images.append(imageio.imread(name+\"/image\"+str(num)+\".jpg\"))\n",
    "imageio.mimsave('primerGIF.gif', images)"
   ]
  },
  {
   "cell_type": "code",
   "execution_count": null,
   "metadata": {
    "ExecuteTime": {
     "end_time": "2020-10-10T20:24:42.342785Z",
     "start_time": "2020-10-10T20:24:42.020807Z"
    }
   },
   "outputs": [],
   "source": [
    "from IPython.display import Image\n",
    "Image(filename=\"primerGIF.gif\")"
   ]
  },
  {
   "cell_type": "markdown",
   "metadata": {},
   "source": [
    "### Gif con Homografía"
   ]
  },
  {
   "cell_type": "code",
   "execution_count": null,
   "metadata": {
    "ExecuteTime": {
     "end_time": "2020-10-10T20:24:50.386190Z",
     "start_time": "2020-10-10T20:24:42.347725Z"
    }
   },
   "outputs": [],
   "source": [
    "\n",
    "images = []\n",
    "for i in range(0,NumeroImagenes):\n",
    "\n",
    "    num = int(str(i))\n",
    "    images.append(imageio.imread(name+\"/HG200-\"+str(num)+\".jpg\"))\n",
    "imageio.mimsave('segundoGIF.gif', images)"
   ]
  },
  {
   "cell_type": "code",
   "execution_count": null,
   "metadata": {
    "ExecuteTime": {
     "end_time": "2020-10-10T20:24:50.754193Z",
     "start_time": "2020-10-10T20:24:50.388191Z"
    }
   },
   "outputs": [],
   "source": [
    "from IPython.display import Image\n",
    "Image(filename=\"segundoGIF.gif\")"
   ]
  },
  {
   "cell_type": "markdown",
   "metadata": {},
   "source": [
    "### Todo perfecto menos este fotograma, número 18\n",
    "\n",
    "En este por alguna razón los puntos de referencia (ORB) no pudieron encontrar matchs suficientes y deformaron la imagen en lugar de alinearla"
   ]
  },
  {
   "cell_type": "code",
   "execution_count": null,
   "metadata": {
    "ExecuteTime": {
     "end_time": "2020-10-10T20:24:50.786188Z",
     "start_time": "2020-10-10T20:24:50.758186Z"
    }
   },
   "outputs": [],
   "source": [
    "from IPython.display import Image\n",
    "Image(filename=name+'/HG200-18.jpg') "
   ]
  },
  {
   "cell_type": "markdown",
   "metadata": {},
   "source": [
    "### Descartarlo manualmente, sabiendo que es la imagen numero 18"
   ]
  },
  {
   "cell_type": "code",
   "execution_count": null,
   "metadata": {
    "ExecuteTime": {
     "end_time": "2020-10-10T20:24:59.592280Z",
     "start_time": "2020-10-10T20:24:50.789190Z"
    }
   },
   "outputs": [],
   "source": [
    "\n",
    "images = []\n",
    "\n",
    "for i in range(0,27):\n",
    "    if i==18:\n",
    "        continue # esquivar el 18\n",
    "    num = int(str(i))\n",
    "    images.append(imageio.imread(name+\"/HG200-\"+str(num)+\".jpg\"))\n",
    "imageio.mimsave('tercerGIF.gif', images)"
   ]
  },
  {
   "cell_type": "code",
   "execution_count": null,
   "metadata": {
    "ExecuteTime": {
     "end_time": "2020-10-10T20:24:59.965974Z",
     "start_time": "2020-10-10T20:24:59.593974Z"
    }
   },
   "outputs": [],
   "source": [
    "from IPython.display import Image\n",
    "Image(filename=\"tercerGIF.gif\")"
   ]
  },
  {
   "cell_type": "markdown",
   "metadata": {},
   "source": [
    "## Usando transformada de Hough para extraer el anómalo"
   ]
  },
  {
   "cell_type": "code",
   "execution_count": null,
   "metadata": {
    "ExecuteTime": {
     "end_time": "2020-10-10T20:25:10.160830Z",
     "start_time": "2020-10-10T20:24:59.968974Z"
    }
   },
   "outputs": [],
   "source": [
    "# aqui se agrupan las imagenes \n",
    "images = []\n",
    "# nombre de la carpeta donde estan los fotogramas y la homografía\n",
    "\n",
    "for i in range(0,27): # por i en las imagenes con homografía\n",
    "    try:\n",
    "        #leer la imagen\n",
    "        img = cv2.imread(name+\"/HG200-\"+str(i)+\".jpg\", cv2.IMREAD_COLOR)\n",
    "        # Convertir la imagen a escala de grises\n",
    "        gray = cv2.cvtColor(img, cv2.COLOR_BGR2GRAY)\n",
    "        # Dejar la imagen con sus \n",
    "        edges = cv2.Canny(gray, 50, 200)\n",
    "        # Detectar puntos que forman una imagen\n",
    "        lines = cv2.HoughLinesP(edges, 1, np.pi/180,threshold = 500, minLineLength=100, maxLineGap=250)\n",
    "        # Dibujar lineas en una imagen llamada error\n",
    "        for line in lines:\n",
    "            x1, y1, x2, y2 = line[0]\n",
    "            cv2.line(img, (x1, y1), (x2, y2), (255, 0, 0), 3)\n",
    "\n",
    "        cv2.imwrite(\"error\"+str(i)+\".jpg\", img) # guarda la imagen anómala\n",
    "        continue\n",
    "    except:\n",
    "        pass\n",
    "\n",
    "    num = int(str(i))\n",
    "    images.append(imageio.imread(name+\"/HG200-\"+str(num)+\".jpg\"))\n",
    "imageio.mimsave('cuartoGIF.gif', images) #guardar como cuartoGIF.gif"
   ]
  },
  {
   "cell_type": "markdown",
   "metadata": {},
   "source": [
    "## Cuarto GIF - FINAL"
   ]
  },
  {
   "cell_type": "code",
   "execution_count": null,
   "metadata": {
    "ExecuteTime": {
     "end_time": "2020-10-10T20:25:10.539469Z",
     "start_time": "2020-10-10T20:25:10.162432Z"
    }
   },
   "outputs": [],
   "source": [
    "from IPython.display import Image\n",
    "Image(filename=\"cuartoGIF.gif\")"
   ]
  }
 ],
 "metadata": {
  "kernelspec": {
   "display_name": "Python 3",
   "language": "python",
   "name": "python3"
  },
  "language_info": {
   "codemirror_mode": {
    "name": "ipython",
    "version": 3
   },
   "file_extension": ".py",
   "mimetype": "text/x-python",
   "name": "python",
   "nbconvert_exporter": "python",
   "pygments_lexer": "ipython3",
   "version": "3.7.7"
  },
  "varInspector": {
   "cols": {
    "lenName": 16,
    "lenType": 16,
    "lenVar": 40
   },
   "kernels_config": {
    "python": {
     "delete_cmd_postfix": "",
     "delete_cmd_prefix": "del ",
     "library": "var_list.py",
     "varRefreshCmd": "print(var_dic_list())"
    },
    "r": {
     "delete_cmd_postfix": ") ",
     "delete_cmd_prefix": "rm(",
     "library": "var_list.r",
     "varRefreshCmd": "cat(var_dic_list()) "
    }
   },
   "types_to_exclude": [
    "module",
    "function",
    "builtin_function_or_method",
    "instance",
    "_Feature"
   ],
   "window_display": false
  }
 },
 "nbformat": 4,
 "nbformat_minor": 4
}
